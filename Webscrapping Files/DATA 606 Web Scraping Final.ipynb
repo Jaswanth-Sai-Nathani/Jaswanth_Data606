{
 "cells": [
  {
   "cell_type": "markdown",
   "metadata": {},
   "source": [
    "# DATA 606 FINAL PROJECT\n",
    "## WEBSCRAPING THE WEBSITE 'TRUECAR.COM' FOR GETTING THE DATA OF USED CARS\n",
    "### Importing required packages for scraping"
   ]
  },
  {
   "cell_type": "code",
   "execution_count": 1,
   "metadata": {},
   "outputs": [
    {
     "name": "stdout",
     "output_type": "stream",
     "text": [
      "3.8.8\n"
     ]
    }
   ],
   "source": [
    "from platform import python_version\n",
    "print(python_version())"
   ]
  },
  {
   "cell_type": "code",
   "execution_count": 2,
   "metadata": {},
   "outputs": [],
   "source": [
    "from bs4 import BeautifulSoup\n",
    "import requests\n",
    "import pandas as pd\n",
    "import lxml.html as lxl\n",
    "import numpy as np"
   ]
  },
  {
   "cell_type": "markdown",
   "metadata": {},
   "source": [
    "### Accessing the truecar.com website and fetching the details of cars using Beautiful Soup and finding the attributes of the datasets"
   ]
  },
  {
   "cell_type": "code",
   "execution_count": null,
   "metadata": {},
   "outputs": [],
   "source": [
    "%%time\n",
    "make=[]\n",
    "model=[]\n",
    "trim=[]\n",
    "year = []\n",
    "mileage = []\n",
    "location = []\n",
    "engine=[]\n",
    "transmission=[]\n",
    "drive_type=[]\n",
    "price = []\n",
    "exterior_color=[]\n",
    "interior_color=[]\n",
    "vehicle_history=[]\n",
    "MPG_city=[]\n",
    "MPG_highway=[]\n",
    "VIN=[]\n",
    "accidents =[]\n",
    "owners=[]\n",
    "car_usage_type=[]\n",
    "fuel_type=[]\n",
    "\n",
    "\n",
    "filename = 'Used Cars Prices_TRUECAR'\n",
    "\n",
    "for i in range (1,340):\n",
    "    \n",
    "    \n",
    "    base_url = 'https://www.truecar.com/used-cars-for-sale/listings/'\n",
    "#     base_url = 'https://www.truecar.com/used-cars-for-sale/listings/location-halethorpe-md/?searchRadius=5000'\n",
    "    \n",
    "    url = base_url + '?page=' + str(i)\n",
    "    \n",
    "    \n",
    "    req = requests.get(url)\n",
    "\n",
    "    soup = BeautifulSoup(req.text,'html.parser')\n",
    "\n",
    "    output_details=soup.find_all('div', {'class': 'vehicle-card'})\n",
    "    \n",
    "    \n",
    "    \n",
    "    for output in output_details:\n",
    "    \n",
    " \n",
    "        current_car = output.find('span',{'class':\"vehicle-header-make-model text-truncate\"}).get_text()\n",
    "    \n",
    "        try:\n",
    "            make.append(current_car.split(' ')[0])\n",
    "        except:\n",
    "            make.append('n/a')\n",
    "    \n",
    "        try:\n",
    "            model.append(current_car.split(' ')[1])\n",
    "        except:\n",
    "            model.append('n/a')\n",
    "    \n",
    "        try:\n",
    "            trim.append(output.find('div',{'class':\"font-size-1 text-truncate\"}).get_text())\n",
    "        \n",
    "        except:\n",
    "            trim.append('n/a')\n",
    "    \n",
    "        try:\n",
    "            year.append(output.find('span',{'class':\"vehicle-card-year font-size-1\"}).get_text())\n",
    "        except:\n",
    "            year.append('n/a')\n",
    "        \n",
    "          \n",
    "        \n",
    "\n",
    "        try:\n",
    "            cur_mlg=output.find('div',{'data-test':\"vehicleMileage\"}).get_text()\n",
    "            mileage.append(cur_mlg.split(' ')[0])\n",
    "        except:\n",
    "            mileage.append('n/a')\n",
    "    \n",
    "        \n",
    "        try:\n",
    "            location.append(output.find('div',{'data-test':\"vehicleCardLocation\"}).get_text())\n",
    "        except:\n",
    "            location.append('n/a')    \n",
    "        \n",
    "    \n",
    "\n",
    "        try:\n",
    "            pr=output.find('div',{'data-test':\"vehicleListingPriceAmount\"}).get_text()\n",
    "            price.append(pr.split('$')[1])\n",
    "        except:\n",
    "            price.append('n/a')\n",
    "        \n",
    "        \n",
    "        clr=output.find('div',{'class':\"vehicle-card-location font-size-1 margin-top-1 text-truncate\"}).get_text()\n",
    "    \n",
    "        try:\n",
    "            exterior_color.append(clr.split(',')[0].split(' ')[0])\n",
    "        except:\n",
    "            exterior_color.append('n/a')\n",
    "    \n",
    "        try:\n",
    "            interior_color.append(clr.split(',')[1].split(' ')[1])\n",
    "        except:\n",
    "            interior_color.append('n/a')\n",
    "        \n",
    "        vhkl_hist=output.find('div',{'data-test':\"vehicleCardCondition\"}).get_text()\n",
    "    \n",
    "        try:\n",
    "            acc=vhkl_hist.split(',')[0].split(' ')[0]\n",
    "            if acc == 'No':\n",
    "                accidents.append('0')\n",
    "            else:\n",
    "                accidents.append(acc)\n",
    "        except:\n",
    "            accidents.append('n/a')\n",
    "        \n",
    "        try:\n",
    "            owners.append(vhkl_hist.split(',')[1].split(' ')[1])\n",
    "        except:\n",
    "            owners.append('n/a')\n",
    "        \n",
    "        try:\n",
    "            car_usage_type.append(vhkl_hist.split(',')[2])\n",
    "        except:\n",
    "            car_usage_type.append('n/a')\n",
    "        \n",
    "        \n",
    "        met = output.find('div',{'class':\"font-size-1 margin-top-1\"}).get_text()\n",
    "    \n",
    "        try:\n",
    "            MPG_city.append(((met.split(',')[0]).split(':')[1]).split('-')[0])\n",
    "        except:\n",
    "            MPG_city.append('n/a')\n",
    "        \n",
    "        try:\n",
    "            MPG_highway.append(((met.split(',')[0]).split(':')[1]).split('-')[1])\n",
    "        except:\n",
    "            MPG_highway.append('n/a')\n",
    "        \n",
    "        try:\n",
    "            engine.append(((met.split(',')[1].split(':')[1]).split(' ')[1]).split('L')[0])\n",
    "        except:\n",
    "            engine.append('n/a')\n",
    "        \n",
    "        try:\n",
    "            transmission.append((met.split(',')[2]).split(':')[1])\n",
    "        except:\n",
    "            transmission.append('n/a')\n",
    "            \n",
    "        try:\n",
    "            drive_type.append((met.split(',')[-1]))\n",
    "        except:\n",
    "            drive_type.append('n/a')\n",
    "            \n",
    "        try:\n",
    "            ft=((met.split(',')[1]).split(':')[1]).split(' ')\n",
    "            if ft[-1]=='Turbocharged' or ft[-1]=='Twin-Turbo':\n",
    "                fuel_type.append(ft[-2])\n",
    "            else: \n",
    "                fuel_type.append(ft[-1])\n",
    "        except:\n",
    "            fuel_type.append('n/a')\n",
    "        \n",
    "        try:\n",
    "            VIN.append((output.find('div',{'class':\"font-size-1 vehicle-card-vin-challenger\"}).get_text()).split(':')[1])\n",
    "        except:\n",
    "            VIN.append('n/a')"
   ]
  },
  {
   "cell_type": "markdown",
   "metadata": {},
   "source": [
    "### Preparing columns for the Dataset"
   ]
  },
  {
   "cell_type": "code",
   "execution_count": null,
   "metadata": {},
   "outputs": [],
   "source": [
    "Used_Cars = pd.DataFrame({'VIN':VIN,'Brand': make, 'Model': model, 'Trim' : trim, 'Manufature_Year': year,\n",
    "                          'Mileage':mileage,'MPG_City': MPG_city,'MPG_Highway':MPG_highway,'Engine_Capacity':engine, \n",
    "                          'Transmission': transmission,'Drive_Type' : drive_type, 'Fuel_Type': fuel_type,\n",
    "                          'Exterior_Color' : exterior_color, 'Interior_Color' : interior_color,'Accidents':accidents,\n",
    "                          'Owners':owners,'Car_Usage_Type':car_usage_type, 'Location':location,'Price': price})"
   ]
  },
  {
   "cell_type": "code",
   "execution_count": null,
   "metadata": {},
   "outputs": [],
   "source": [
    "Used_Cars.head()"
   ]
  },
  {
   "cell_type": "markdown",
   "metadata": {},
   "source": [
    "### Displaying the dataset"
   ]
  },
  {
   "cell_type": "code",
   "execution_count": null,
   "metadata": {},
   "outputs": [],
   "source": [
    "Used_Cars.index=Used_Cars.VIN\n",
    "del Used_Cars['VIN']\n",
    "Used_Cars"
   ]
  },
  {
   "cell_type": "code",
   "execution_count": null,
   "metadata": {},
   "outputs": [],
   "source": [
    "df=Used_Cars.dropna()\n",
    "df=df.reset_index()\n",
    "df"
   ]
  },
  {
   "cell_type": "markdown",
   "metadata": {},
   "source": [
    "### Converting the dataframe to a csv file for easy access and handling"
   ]
  },
  {
   "cell_type": "markdown",
   "metadata": {},
   "source": [
    "### Final Dataset after dropping the null values"
   ]
  },
  {
   "cell_type": "markdown",
   "metadata": {},
   "source": [
    "### Creating a csv file for final dataset"
   ]
  },
  {
   "cell_type": "code",
   "execution_count": null,
   "metadata": {},
   "outputs": [],
   "source": [
    "fn='jaswanth_used_cars'\n",
    "df.to_csv(\"{}.csv\".format(fn))\n",
    "df1 = pd.read_csv('jaswanth_used_cars.csv', index_col=0)\n",
    "df1.head()"
   ]
  },
  {
   "cell_type": "code",
   "execution_count": null,
   "metadata": {},
   "outputs": [],
   "source": [
    "df1.VIN.nunique()"
   ]
  },
  {
   "cell_type": "code",
   "execution_count": null,
   "metadata": {},
   "outputs": [],
   "source": []
  }
 ],
 "metadata": {
  "kernelspec": {
   "display_name": "Python 3",
   "language": "python",
   "name": "python3"
  },
  "language_info": {
   "codemirror_mode": {
    "name": "ipython",
    "version": 3
   },
   "file_extension": ".py",
   "mimetype": "text/x-python",
   "name": "python",
   "nbconvert_exporter": "python",
   "pygments_lexer": "ipython3",
   "version": "3.8.8"
  }
 },
 "nbformat": 4,
 "nbformat_minor": 4
}
